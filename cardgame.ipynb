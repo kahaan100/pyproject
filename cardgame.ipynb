{
 "cells": [
  {
   "cell_type": "markdown",
   "metadata": {},
   "source": [
    " blackjack card game"
   ]
  },
  {
   "cell_type": "code",
   "execution_count": 1,
   "metadata": {},
   "outputs": [],
   "source": [
    "\n",
    "\n",
    "import random\n",
    "suits={'Hearts','Diamonds','Spades','Clubs'}\n",
    "ranks={'Two','Three','Four','Five','Six','Seven','Eight','Nine','Ten','Jack', 'Queen', 'King', 'Ace'}\n",
    "\n",
    "values = {'Two':2, 'Three':3, 'Four':4, 'Five':5, 'Six':6, 'Seven':7, 'Eight':8, \n",
    "            'Nine':9, 'Ten':10, 'Jack':11, 'Queen':12, 'King':13, 'Ace':14}\n"
   ]
  },
  {
   "cell_type": "code",
   "execution_count": 2,
   "metadata": {},
   "outputs": [],
   "source": [
    "\n",
    "class Card:\n",
    "    \n",
    "    def __init__(self,suit,rank):\n",
    "        self.suit = suit\n",
    "        self.rank = rank\n",
    "        self.value=values[rank]\n",
    "        \n",
    "        \n",
    "    def __str__(self):\n",
    "        return self.rank + ' of ' + self.suit\n"
   ]
  },
  {
   "cell_type": "code",
   "execution_count": 3,
   "metadata": {},
   "outputs": [],
   "source": [
    "two_hearts=Card(\"heart\",\"Two\")"
   ]
  },
  {
   "cell_type": "code",
   "execution_count": 4,
   "metadata": {},
   "outputs": [],
   "source": [
    "three_of_clubs=Card(\"clubs\",\"Three\")\n"
   ]
  },
  {
   "cell_type": "code",
   "execution_count": 5,
   "metadata": {},
   "outputs": [
    {
     "data": {
      "text/plain": [
       "'clubs'"
      ]
     },
     "execution_count": 5,
     "metadata": {},
     "output_type": "execute_result"
    }
   ],
   "source": [
    "three_of_clubs.suit"
   ]
  },
  {
   "cell_type": "code",
   "execution_count": 6,
   "metadata": {},
   "outputs": [
    {
     "data": {
      "text/plain": [
       "'Three'"
      ]
     },
     "execution_count": 6,
     "metadata": {},
     "output_type": "execute_result"
    }
   ],
   "source": [
    "three_of_clubs.rank\n"
   ]
  },
  {
   "cell_type": "code",
   "execution_count": 7,
   "metadata": {},
   "outputs": [
    {
     "data": {
      "text/plain": [
       "True"
      ]
     },
     "execution_count": 7,
     "metadata": {},
     "output_type": "execute_result"
    }
   ],
   "source": [
    "two_hearts.value<three_of_clubs.value"
   ]
  },
  {
   "cell_type": "markdown",
   "metadata": {},
   "source": [
    "Deck Class"
   ]
  },
  {
   "cell_type": "code",
   "execution_count": 13,
   "metadata": {},
   "outputs": [],
   "source": [
    "class Deck:\n",
    "    \n",
    "    def __init__(self):\n",
    "        # Note this only happens once upon creation of a new Deck\n",
    "        self.all_cards = [] \n",
    "        for suit in suits:\n",
    "            for rank in ranks:\n",
    "                # This assumes the Card class has already been defined!\n",
    "                self.all_cards.append(Card(suit,rank))\n",
    "                \n",
    "    def shuffle(self):\n",
    "        # Note this doesn't return anything\n",
    "        random.shuffle(self.all_cards)\n",
    "        \n",
    "    def deal_one(self):\n",
    "        # Note we remove one card from the list of all_cards\n",
    "        return self.all_cards.pop() \n",
    "               \n",
    "              "
   ]
  },
  {
   "cell_type": "code",
   "execution_count": 15,
   "metadata": {},
   "outputs": [],
   "source": [
    "new_deck=Deck()"
   ]
  },
  {
   "cell_type": "code",
   "execution_count": 17,
   "metadata": {},
   "outputs": [
    {
     "name": "stdout",
     "output_type": "stream",
     "text": [
      "Eight of Clubs\n"
     ]
    }
   ],
   "source": [
    "first_Card=new_deck.all_cards[-1]\n",
    "print(first_Card)"
   ]
  },
  {
   "cell_type": "code",
   "execution_count": 18,
   "metadata": {},
   "outputs": [
    {
     "name": "stdout",
     "output_type": "stream",
     "text": [
      "Ten of Spades\n",
      "Five of Spades\n",
      "Two of Spades\n",
      "Three of Spades\n",
      "Nine of Spades\n",
      "King of Spades\n",
      "Six of Spades\n",
      "Four of Spades\n",
      "Ace of Spades\n",
      "Jack of Spades\n",
      "Queen of Spades\n",
      "Seven of Spades\n",
      "Eight of Spades\n",
      "Ten of Hearts\n",
      "Five of Hearts\n",
      "Two of Hearts\n",
      "Three of Hearts\n",
      "Nine of Hearts\n",
      "King of Hearts\n",
      "Six of Hearts\n",
      "Four of Hearts\n",
      "Ace of Hearts\n",
      "Jack of Hearts\n",
      "Queen of Hearts\n",
      "Seven of Hearts\n",
      "Eight of Hearts\n",
      "Ten of Diamonds\n",
      "Five of Diamonds\n",
      "Two of Diamonds\n",
      "Three of Diamonds\n",
      "Nine of Diamonds\n",
      "King of Diamonds\n",
      "Six of Diamonds\n",
      "Four of Diamonds\n",
      "Ace of Diamonds\n",
      "Jack of Diamonds\n",
      "Queen of Diamonds\n",
      "Seven of Diamonds\n",
      "Eight of Diamonds\n",
      "Ten of Clubs\n",
      "Five of Clubs\n",
      "Two of Clubs\n",
      "Three of Clubs\n",
      "Nine of Clubs\n",
      "King of Clubs\n",
      "Six of Clubs\n",
      "Four of Clubs\n",
      "Ace of Clubs\n",
      "Jack of Clubs\n",
      "Queen of Clubs\n",
      "Seven of Clubs\n",
      "Eight of Clubs\n"
     ]
    }
   ],
   "source": [
    "for card_object in new_deck.all_cards:\n",
    "    print(card_object)"
   ]
  },
  {
   "cell_type": "code",
   "execution_count": 20,
   "metadata": {},
   "outputs": [
    {
     "name": "stdout",
     "output_type": "stream",
     "text": [
      "Eight of Hearts\n"
     ]
    }
   ],
   "source": [
    "new_deck.shuffle()\n",
    "print(new_deck.all_cards[0])"
   ]
  },
  {
   "cell_type": "code",
   "execution_count": 21,
   "metadata": {},
   "outputs": [
    {
     "data": {
      "text/plain": [
       "52"
      ]
     },
     "execution_count": 21,
     "metadata": {},
     "output_type": "execute_result"
    }
   ],
   "source": [
    "len(new_deck.all_cards)"
   ]
  },
  {
   "cell_type": "markdown",
   "metadata": {},
   "source": [
    "player class"
   ]
  },
  {
   "cell_type": "code",
   "execution_count": 25,
   "metadata": {},
   "outputs": [],
   "source": [
    "class player:\n",
    "\n",
    "    def __init__(self,name):\n",
    "\n",
    "        self.name=name\n",
    "        self.all_cards=[]\n",
    "\n",
    "    def remove_one(self):\n",
    "        return self.all_cards.pop(0)\n",
    "    def add_cards(self,new_cards):\n",
    "        if type(new_cards)==type([]):\n",
    "            self.all_cards.extend(new_cards)\n",
    "        else:\n",
    "            self.all_cards.append(new_cards)\n",
    "    def __str__(self):\n",
    "        return f'player {self.name} has {len(self.all_cards)} cards.'\n",
    "\n"
   ]
  },
  {
   "cell_type": "code",
   "execution_count": 26,
   "metadata": {},
   "outputs": [],
   "source": [
    "new_player=player(\"jose\")\n"
   ]
  },
  {
   "cell_type": "code",
   "execution_count": 27,
   "metadata": {},
   "outputs": [
    {
     "name": "stdout",
     "output_type": "stream",
     "text": [
      "player jose has 0 cards.\n"
     ]
    }
   ],
   "source": [
    "print(new_player)"
   ]
  },
  {
   "cell_type": "code",
   "execution_count": 28,
   "metadata": {},
   "outputs": [],
   "source": [
    "new_player.add_cards(Card)"
   ]
  },
  {
   "cell_type": "code",
   "execution_count": null,
   "metadata": {},
   "outputs": [
    {
     "name": "stdout",
     "output_type": "stream",
     "text": [
      "player jose has 1 cards.\n",
      "<class '__main__.Card'>\n"
     ]
    }
   ],
   "source": [
    "print(new_player)\n"
   ]
  },
  {
   "cell_type": "code",
   "execution_count": 33,
   "metadata": {},
   "outputs": [
    {
     "name": "stdout",
     "output_type": "stream",
     "text": [
      "<class '__main__.Card'>\n"
     ]
    }
   ],
   "source": [
    "print(new_player.all_cards[0])"
   ]
  },
  {
   "cell_type": "code",
   "execution_count": 35,
   "metadata": {},
   "outputs": [],
   "source": [
    "new_player.add_cards([Card,Card])"
   ]
  },
  {
   "cell_type": "code",
   "execution_count": 36,
   "metadata": {},
   "outputs": [
    {
     "name": "stdout",
     "output_type": "stream",
     "text": [
      "player jose has 3 cards.\n"
     ]
    }
   ],
   "source": [
    "print(new_player)"
   ]
  },
  {
   "cell_type": "code",
   "execution_count": 37,
   "metadata": {},
   "outputs": [
    {
     "data": {
      "text/plain": [
       "__main__.Card"
      ]
     },
     "execution_count": 37,
     "metadata": {},
     "output_type": "execute_result"
    }
   ],
   "source": [
    "new_player.remove_one()"
   ]
  },
  {
   "cell_type": "code",
   "execution_count": 38,
   "metadata": {},
   "outputs": [
    {
     "name": "stdout",
     "output_type": "stream",
     "text": [
      "player jose has 2 cards.\n"
     ]
    }
   ],
   "source": [
    "print(new_player)"
   ]
  },
  {
   "cell_type": "markdown",
   "metadata": {},
   "source": [
    "game logic"
   ]
  },
  {
   "cell_type": "code",
   "execution_count": 39,
   "metadata": {},
   "outputs": [],
   "source": [
    "player_one=player(\"one\")\n",
    "player_two=player(\"two\")\n",
    "\n",
    "new_deck=Deck()\n",
    "new_deck.shuffle()\n",
    "\n",
    "for x in range(26):\n",
    "    player_one.add_cards(new_deck.deal_one())\n",
    "    player_two.add_cards(new_deck.deal_one())\n",
    "\n",
    "                         "
   ]
  },
  {
   "cell_type": "code",
   "execution_count": 41,
   "metadata": {},
   "outputs": [],
   "source": [
    "game_on=True\n"
   ]
  },
  {
   "cell_type": "code",
   "execution_count": 43,
   "metadata": {},
   "outputs": [
    {
     "name": "stdout",
     "output_type": "stream",
     "text": [
      "Round1\n",
      "Round2\n",
      "Round3\n",
      "Round4\n",
      "War!\n",
      "Round5\n",
      "Round6\n",
      "War!\n",
      "Round7\n",
      "Round8\n",
      "Round9\n",
      "Round10\n",
      "Round11\n",
      "Round12\n",
      "Round13\n",
      "Round14\n",
      "Round15\n",
      "Round16\n",
      "Round17\n",
      "Round18\n",
      "Round19\n",
      "Round20\n",
      "Round21\n",
      "Round22\n",
      "Round23\n",
      "Round24\n",
      "Round25\n",
      "Round26\n",
      "Round27\n",
      "Round28\n",
      "Round29\n",
      "Round30\n",
      "Round31\n",
      "Round32\n",
      "Round33\n",
      "War!\n",
      "Round34\n",
      "Round35\n",
      "Round36\n",
      "Round37\n",
      "Round38\n",
      "Round39\n",
      "Round40\n",
      "Round41\n",
      "War!\n",
      "Round42\n",
      "Round43\n",
      "Round44\n",
      "Round45\n",
      "Round46\n",
      "Round47\n",
      "Round48\n",
      "Round49\n",
      "Round50\n",
      "Round51\n",
      "Round52\n",
      "Round53\n",
      "Round54\n",
      "Round55\n",
      "Round56\n",
      "Round57\n",
      "Round58\n",
      "Round59\n",
      "Round60\n",
      "Round61\n",
      "Round62\n",
      "Round63\n",
      "Round64\n",
      "Round65\n",
      "Round66\n",
      "War!\n",
      "Round67\n",
      "Round68\n",
      "Round69\n",
      "Round70\n",
      "War!\n",
      "Round71\n",
      "War!\n",
      "Round72\n",
      "Round73\n",
      "Round74\n",
      "Round75\n",
      "Round76\n",
      "Round77\n",
      "Round78\n",
      "Round79\n",
      "Round80\n",
      "Round81\n",
      "Round82\n",
      "Round83\n",
      "Round84\n",
      "Round85\n",
      "Round86\n",
      "Round87\n",
      "Round88\n",
      "Round89\n",
      "Round90\n",
      "Round91\n",
      "Round92\n",
      "Round93\n",
      "Round94\n",
      "Round95\n",
      "Round96\n",
      "Round97\n",
      "Round98\n",
      "Round99\n",
      "Round100\n",
      "Round101\n",
      "War!\n",
      "Round102\n",
      "Round103\n",
      "Round104\n",
      "Round105\n",
      "Round106\n",
      "Round107\n",
      "Round108\n",
      "Round109\n",
      "Round110\n",
      "War!\n",
      "player two unable to delcare war\n",
      "player one wins!\n"
     ]
    }
   ],
   "source": [
    "round_num=0\n",
    "\n",
    "while game_on:\n",
    "\n",
    "    round_num+=1\n",
    "    print(f\"Round{round_num}\")\n",
    "\n",
    "    if len(player_one.all_cards)==0:\n",
    "        print(\"player one, out of cards! player two wins\")\n",
    "        game_on=False\n",
    "        break\n",
    " \n",
    "    if len(player_two.all_cards)==0:\n",
    "        print(\"player two, out of cards! player one wins\")\n",
    "        game_on=False\n",
    "        break\n",
    "\n",
    "    player_one_cards=[]\n",
    "    player_one_cards.append(player_one.remove_one())\n",
    "\n",
    "    player_two_cards=[]\n",
    "    player_two_cards.append(player_two.remove_one())\n",
    "\n",
    "    at_war=True\n",
    "\n",
    "    while at_war:\n",
    "\n",
    "        if player_one_cards[-1].value>player_two_cards[-1].value:\n",
    "\n",
    "            player_one.add_cards(player_one_cards)\n",
    "            player_one.add_cards(player_two_cards)\n",
    "\n",
    "            at_war=False\n",
    "\n",
    "        elif player_one_cards[-1].value<player_two_cards[-1].value:\n",
    "\n",
    "            player_two.add_cards(player_one_cards)\n",
    "            player_two.add_cards(player_two_cards)\n",
    "\n",
    "            at_war=False   \n",
    "\n",
    "        else:\n",
    "            print(\"War!\")    \n",
    "\n",
    "            if len(player_one.all_cards)<3:\n",
    "                print(\"player one unable to delcare war\")\n",
    "                print(\"player two wins!\")\n",
    "                game_on=False\n",
    "                break\n",
    "            elif len(player_two.all_cards)<3:\n",
    "                print(\"player two unable to delcare war\")\n",
    "                print(\"player one wins!\")\n",
    "                game_on=False\n",
    "                break\n",
    "\n",
    "            else:\n",
    "                for num in range(5):\n",
    "                    player_one_cards.append(player_one.remove_one())\n",
    "                    player_two_cards.append(player_two.remove_one())"
   ]
  }
 ],
 "metadata": {
  "kernelspec": {
   "display_name": "Python 3",
   "language": "python",
   "name": "python3"
  },
  "language_info": {
   "codemirror_mode": {
    "name": "ipython",
    "version": 3
   },
   "file_extension": ".py",
   "mimetype": "text/x-python",
   "name": "python",
   "nbconvert_exporter": "python",
   "pygments_lexer": "ipython3",
   "version": "3.12.0"
  }
 },
 "nbformat": 4,
 "nbformat_minor": 2
}
